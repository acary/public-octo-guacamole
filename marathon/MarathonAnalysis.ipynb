{
  "nbformat": 4,
  "nbformat_minor": 0,
  "metadata": {
    "colab": {
      "name": "MarathonAnalysis.ipynb",
      "provenance": [],
      "collapsed_sections": []
    },
    "kernelspec": {
      "name": "python3",
      "display_name": "Python 3"
    }
  },
  "cells": [
    {
      "cell_type": "code",
      "metadata": {
        "id": "kc9o5TiDgBIT",
        "colab_type": "code",
        "colab": {}
      },
      "source": [
        "# An analytical approach to completing a marathon\n",
        "# Author: Andy Cary (https://andycary.com)"
      ],
      "execution_count": 0,
      "outputs": []
    },
    {
      "cell_type": "code",
      "metadata": {
        "id": "eaw0c8YDn6os",
        "colab_type": "code",
        "colab": {}
      },
      "source": [
        "# Define a person and status\n",
        "\n",
        "class Person():\n",
        "    def __init__(self, name, age, status, one_mile_time, five_k_time, ten_k_time, half_marathon_time, marathon_time):\n",
        "        '''Initialize Person attributes'''\n",
        "        self.name = name\n",
        "        self.age = str(age)\n",
        "        self.status = status\n",
        "        self.one_mile_time =       one_mile_time\n",
        "        self.five_k_time =         five_k_time\n",
        "        self.ten_k_time =          ten_k_time\n",
        "        self.half_marathon_time =  half_marathon_time\n",
        "        self.marathon_time =       marathon_time\n",
        "\n",
        "status = [\n",
        "          \"resting\", \n",
        "          \"training\", \n",
        "          \"injured\", \n",
        "          \"recovering\", \n",
        "          \"ready\"]"
      ],
      "execution_count": 0,
      "outputs": []
    },
    {
      "cell_type": "code",
      "metadata": {
        "id": "BUurxDgZvoOT",
        "colab_type": "code",
        "outputId": "344e563b-3455-41b8-de03-db0b51fed398",
        "colab": {
          "base_uri": "https://localhost:8080/",
          "height": 68
        }
      },
      "source": [
        "# Create instance of a person\n",
        "\n",
        "runner = Person(\"Andy\", 36, status[4], 7.5, 28, 60, 150, 5.78 * 60)\n",
        "\n",
        "print(\"Hello, my name is {}, I am {} years of age. I am {}.\".format(\n",
        "    runner.name, runner.age, runner.status)\n",
        ")\n",
        "\n",
        "print(\"My Half-Marathon PR: 2:02 (Hours), 5/2013\")\n",
        "print(\"My Marathon PR: 4:26 (Hours), 8/2007\")"
      ],
      "execution_count": 92,
      "outputs": [
        {
          "output_type": "stream",
          "text": [
            "Hello, my name is Andy, I am 36 years of age. I am ready.\n",
            "My Half-Marathon PR: 2:02 (Hours), 5/2013\n",
            "My Marathon PR: 4:26 (Hours), 8/2007\n"
          ],
          "name": "stdout"
        }
      ]
    },
    {
      "cell_type": "code",
      "metadata": {
        "id": "SHTgEorkk_LJ",
        "colab_type": "code",
        "colab": {}
      },
      "source": [
        " # Identify course difficulty\n",
        "\n",
        "course_difficulty   = 0.8     # Difficult course profile (Rolling Hills)"
      ],
      "execution_count": 0,
      "outputs": []
    },
    {
      "cell_type": "code",
      "metadata": {
        "id": "j_ik17jYgGgu",
        "colab_type": "code",
        "outputId": "c249e208-8543-4432-ba3b-3512cfc1691c",
        "colab": {
          "base_uri": "https://localhost:8080/",
          "height": 34
        }
      },
      "source": [
        "# Decide you want to do it\n",
        "\n",
        "motivated = True\n",
        "\n",
        "if runner and motivated:\n",
        "  runner.status = status[1]\n",
        "  print(\"My status is now: {}\".format(runner.status))"
      ],
      "execution_count": 94,
      "outputs": [
        {
          "output_type": "stream",
          "text": [
            "My status is now: training\n"
          ],
          "name": "stdout"
        }
      ]
    },
    {
      "cell_type": "code",
      "metadata": {
        "id": "yUIvtWrZcrwo",
        "colab_type": "code",
        "colab": {}
      },
      "source": [
        "# Understand factors in completion\n",
        "\n",
        "# Approximate overall fitness\n",
        "\n",
        "# Muscle conditioning, joint health, sleep quality, weight management\n",
        "general_fitness = 0.6                       # Fill in between 0.0 - 1.0\n",
        "fitness_margin  = 1.0 - general_fitness     # Available room for improvement\n",
        "\n",
        "# Running form\n",
        "one_leg_cadence  = 80                       # One-leg per minute (Ideal: 85-90)\n",
        "running_cadence  = one_leg_cadence * 2      # Ideal is 170-180 per minute\n",
        "cadence_margin   = 175 - running_cadence    # Error from ideal cadence\n",
        "\n",
        "# Aerobic fitness\n",
        "aerobic_fitness  = 0.7                      # Fill in between 0.0 - 1.0\n",
        "aerobic_margin   = 1.0 - aerobic_fitness    # Available room for improvement\n",
        "\n",
        "# Lactic threshold\n",
        "lactic_threshold = 0.5                      # Fill in between 0.0 - 1.0\n",
        "lactic_margin    = 1.0 - lactic_threshold   # Available room for improvement\n",
        "\n",
        "# Pain tolerance\n",
        "# Ability to tolerate pain through discomfort\n",
        "pain_tolerance   = 0.6                      # Ability to push through pain\n",
        "pain_tol_margin  = 1.0 - pain_tolerance     # Available room for improvement"
      ],
      "execution_count": 0,
      "outputs": []
    },
    {
      "cell_type": "code",
      "metadata": {
        "id": "qE-UnuZ6gRn5",
        "colab_type": "code",
        "outputId": "ca49fd14-c675-4e1f-a5b3-8400ebecbcf2",
        "colab": {
          "base_uri": "https://localhost:8080/",
          "height": 51
        }
      },
      "source": [
        "# Athletic profile\n",
        "\n",
        "# Normalize margin\n",
        "overall_fitness_margin = fitness_margin * cadence_margin * aerobic_margin * \\\n",
        "                 lactic_margin * pain_tol_margin\n",
        "\n",
        "print(\"Health points: \" + str(1.0 - round(overall_fitness_margin, 2)))\n",
        "print(\"Fitness margin: \" + str(round(overall_fitness_margin, 2)))"
      ],
      "execution_count": 99,
      "outputs": [
        {
          "output_type": "stream",
          "text": [
            "Health points: 0.64\n",
            "Fitness margin: 0.36\n"
          ],
          "name": "stdout"
        }
      ]
    },
    {
      "cell_type": "code",
      "metadata": {
        "id": "dWTiH7KYh0Ce",
        "colab_type": "code",
        "outputId": "6b71d579-11e5-43f8-f6d0-fb7ebac88a25",
        "colab": {
          "base_uri": "https://localhost:8080/",
          "height": 255
        }
      },
      "source": [
        "print(\"MARATHON COMPLETION ESTIMATOR\" + \"\\n\")\n",
        "\n",
        "# Plan expectations\n",
        "\n",
        "print(\"Calculate historical averages:\")\n",
        "\n",
        "# Recorded completion times (minutes)\n",
        "one_mile_time       = runner.one_mile_time\n",
        "five_k_time         = runner.five_k_time\n",
        "ten_k_time          = runner.ten_k_time\n",
        "half_marathon_time  = runner.half_marathon_time\n",
        "marathon_time       = runner.marathon_time\n",
        "\n",
        "short_pace_average  = round((one_mile_time + five_k_time + ten_k_time) / 10.3, 2)\n",
        "long_pace_average   = round((half_marathon_time + marathon_time) / 39.3, 2)\n",
        "\n",
        "# Historical completion averages\n",
        "print(\"Short pace average (Minutes): \" + str(round(short_pace_average, 2)))\n",
        "print(\"Long pace average (Minutes): \" + str(round(long_pace_average, 2)) + \"\\n\")\n",
        "\n",
        "# Full marathon distance completion estimate\n",
        "est_marathon_time = (short_pace_average * 13.1) + (long_pace_average * 13.1)\n",
        "est_marathon_time = est_marathon_time\n",
        "est_marathon_time = round(est_marathon_time / 60, 2)\n",
        "print(\"Initial estimated completion time:\")\n",
        "print(\"Full marathon completion estimate (Hours): \" + str(est_marathon_time)) \n",
        "\n",
        "# Account for fitness margin\n",
        "account_fitness_margin = est_marathon_time + (overall_fitness_margin * 0.85)\n",
        "print(\"Account for fitness margin (Weight): \" + str(account_fitness_margin))\n",
        "\n",
        "# Account for course difficulty\n",
        "account_course_difficulty = account_fitness_margin + (course_difficulty * 0.85)\n",
        "print(\"Account for course difficulty (Weight): \" + str(account_course_difficulty) + \"\\n\")\n",
        "\n",
        "print(\"Adjusted estimated completion time:\")\n",
        "\n",
        "new_est_marathon_time = account_course_difficulty\n",
        "print(\"Estimated completion time (Hours): \" + str(new_est_marathon_time))\n",
        "\n",
        "est_completion_pace = round((new_est_marathon_time * 60) / 26.2, 2)\n",
        "print(\"Estimated completion pace (Minutes): \" + str(est_completion_pace))"
      ],
      "execution_count": 100,
      "outputs": [
        {
          "output_type": "stream",
          "text": [
            "MARATHON COMPLETION ESTIMATOR\n",
            "\n",
            "Calculate historical averages:\n",
            "Short pace average (Minutes): 9.27\n",
            "Long pace average (Minutes): 12.64\n",
            "\n",
            "Initial estimated completion time:\n",
            "Full marathon completion estimate (Hours): 4.78\n",
            "Account for fitness margin (Weight): 5.086\n",
            "Account for course difficulty (Weight): 5.766\n",
            "\n",
            "Adjusted estimated completion time:\n",
            "Estimated completion time (Hours): 5.766\n",
            "Estimated completion pace (Minutes): 13.2\n"
          ],
          "name": "stdout"
        }
      ]
    },
    {
      "cell_type": "code",
      "metadata": {
        "id": "KauNIkdNg6W_",
        "colab_type": "code",
        "outputId": "5b6a2498-323d-4106-e956-ff9b96bb43d3",
        "colab": {
          "base_uri": "https://localhost:8080/",
          "height": 357
        }
      },
      "source": [
        "# Train\n",
        "\n",
        "weeks = 20\n",
        "note = ''\n",
        "\n",
        "for week in range(weeks):\n",
        "\n",
        "  if week == 0:\n",
        "    note = \"Establish aerobic base (70% of miles ~70% max heart rate).\"\n",
        "\n",
        "  if week == 1:\n",
        "    note = \"Increase weekly mileage gradually (10% per week max).\"\n",
        "\n",
        "  if week == 2:\n",
        "    note = \"Improve mobility and flexibility through dynamic stretching.\"\n",
        "\n",
        "  if week == 3:\n",
        "    note = \"Cross-train with strength exercises.\"\n",
        "  \n",
        "  if week == 10:\n",
        "    note = \"Eat mostly plant-based carbohydrates with protein and healthy fats.\"\n",
        "  \n",
        "  if week == weeks-6:\n",
        "    note = \"Avoid injury and account for possible training setbacks.\"\n",
        "  \n",
        "  if week == weeks-3:\n",
        "    note = \"Do Long Run (20 miles) then start taper.\"\n",
        "\n",
        "  print(\"Week \" + str(week) + ': ' + note)\n",
        "  note = ''\n",
        "\n"
      ],
      "execution_count": 101,
      "outputs": [
        {
          "output_type": "stream",
          "text": [
            "Week 0: Establish aerobic base (70% of miles ~70% max heart rate).\n",
            "Week 1: Increase weekly mileage gradually (10% per week max).\n",
            "Week 2: Improve mobility and flexibility through dynamic stretching.\n",
            "Week 3: Cross-train with strength exercises.\n",
            "Week 4: \n",
            "Week 5: \n",
            "Week 6: \n",
            "Week 7: \n",
            "Week 8: \n",
            "Week 9: \n",
            "Week 10: Eat mostly plant-based carbohydrates with protein and healthy fats.\n",
            "Week 11: \n",
            "Week 12: \n",
            "Week 13: \n",
            "Week 14: Avoid injury and account for possible training setbacks.\n",
            "Week 15: \n",
            "Week 16: \n",
            "Week 17: Do Long Run (20 miles) then start taper.\n",
            "Week 18: \n",
            "Week 19: \n"
          ],
          "name": "stdout"
        }
      ]
    },
    {
      "cell_type": "code",
      "metadata": {
        "id": "ahcU-QVphIPn",
        "colab_type": "code",
        "outputId": "77b57f2f-bd77-4d9c-938e-c923812d4391",
        "colab": {
          "base_uri": "https://localhost:8080/",
          "height": 561
        }
      },
      "source": [
        "# Run the marathon\n",
        "\n",
        "miles = 26.2\n",
        "start = 0\n",
        "current = 0\n",
        "note = ''\n",
        "\n",
        "while current < miles:\n",
        "\n",
        "  # Update mileage notes\n",
        "  if current == 0:\n",
        "    note = \"Steady start (70-80% max heart rate).\"\n",
        "\n",
        "  if current == 4:\n",
        "    note = \"Consume calories every ~30 minutes.\"\n",
        "\n",
        "  if current == 6:\n",
        "    note = \"First 10K completed. Consume calories.\"\n",
        "\n",
        "  if current == 8:\n",
        "    note = \"Near glycogen depletion (90 minutes).\"\n",
        "\n",
        "  if current == 9:\n",
        "    note = \"Take break to stretch, hydrate, and consume calories.\"\n",
        "\n",
        "  if current == 13:\n",
        "    note = \"You are halfway there. Keep it up!\"\n",
        "\n",
        "  if current == 20:\n",
        "    note = \"Take break to stretch, hydrate, and consume calories. 10K remaining.\"\n",
        "\n",
        "  if current == 23:\n",
        "    note = \"5K remaining. Tighten the screws.\"\n",
        "\n",
        "  if current == 24:\n",
        "    note = \"Consume remaining available calories.\"\n",
        "\n",
        "  if current == 26:\n",
        "    print(\"Mile \" + str(current) + ' ' + note)\n",
        "    while current < miles:\n",
        "\n",
        "      # Increment mileage counter\n",
        "      current += .1\n",
        "      current = round(current, 2)\n",
        "      print(\"Mile \" + str(current) + ' ' + note)\n",
        "\n",
        "  if current == round(miles, 2):\n",
        "    note = \"You ran a marathon!\"\n",
        "\n",
        "  print(\"Mile \" + str(current) + ' ' + note)\n",
        "  current += 1\n",
        "  note = ''\n",
        "\n",
        "# Celebrate and begin recovery\n",
        "runner.status = status[3]\n",
        "print(\"\\nMy status is now: \" + runner.status)\n"
      ],
      "execution_count": 102,
      "outputs": [
        {
          "output_type": "stream",
          "text": [
            "Mile 0 Steady start (70-80% max heart rate).\n",
            "Mile 1 \n",
            "Mile 2 \n",
            "Mile 3 \n",
            "Mile 4 Consume calories every ~30 minutes.\n",
            "Mile 5 \n",
            "Mile 6 First 10K completed. Consume calories.\n",
            "Mile 7 \n",
            "Mile 8 Near glycogen depletion (90 minutes).\n",
            "Mile 9 Take break to stretch, hydrate, and consume calories.\n",
            "Mile 10 \n",
            "Mile 11 \n",
            "Mile 12 \n",
            "Mile 13 You are halfway there. Keep it up!\n",
            "Mile 14 \n",
            "Mile 15 \n",
            "Mile 16 \n",
            "Mile 17 \n",
            "Mile 18 \n",
            "Mile 19 \n",
            "Mile 20 Take break to stretch, hydrate, and consume calories. 10K remaining.\n",
            "Mile 21 \n",
            "Mile 22 \n",
            "Mile 23 5K remaining. Tighten the screws.\n",
            "Mile 24 Consume remaining available calories.\n",
            "Mile 25 \n",
            "Mile 26 \n",
            "Mile 26.1 \n",
            "Mile 26.2 \n",
            "Mile 26.2 You ran a marathon!\n",
            "\n",
            "My status is now: recovering\n"
          ],
          "name": "stdout"
        }
      ]
    },
    {
      "cell_type": "code",
      "metadata": {
        "id": "TJaCLSl4h4Bu",
        "colab_type": "code",
        "colab": {
          "base_uri": "https://localhost:8080/",
          "height": 272
        },
        "outputId": "04a2a0c8-3077-4183-fb3e-d96b4d53ab93"
      },
      "source": [
        "# Recover\n",
        "\n",
        "print(\"Immediately after:\")\n",
        "\n",
        "# Nutrition\n",
        "print(\"- Replace fluids.\")\n",
        "print(\"- Eat a meal to start recovery process.\")\n",
        "print(\"- Enjoy 1-2 beers (replenishes spent glycogen).\")\n",
        "print(\"- Enjoy a celebratory meal.\\n\")\n",
        "\n",
        "print(\"Next four days:\")\n",
        "\n",
        "# Sleep\n",
        "print(\"- Get 10-12 hours of sleep nightly.\")\n",
        "\n",
        "# Active rest\n",
        "print(\"- Walk min 15-20 minutes each day (minimum) to keep blood flowing through legs.\")\n",
        "\n",
        "# Additional aids (sauna, ice bath, stretching, massage)\n",
        "print(\"- Use additional training aids appropriate to experience and skill level (i.e. massage roller).\\n\")\n",
        "\n",
        "print(\"Notes:\")\n",
        "\n",
        "# Strength train\n",
        "print(\"- Recovery period lasts up to 26 days (1 day for each mile).\")\n",
        "print(\"- Consume sufficient amount of quality calories (i.e. 16 oz vegetables per day).\")\n",
        "print(\"- Use time to strength train, correct injuries and promote future injury prevention.\")\n",
        "\n"
      ],
      "execution_count": 103,
      "outputs": [
        {
          "output_type": "stream",
          "text": [
            "Immediately after:\n",
            "- Replace fluids.\n",
            "- Eat a meal to start recovery process.\n",
            "- Enjoy 1-2 beers (replenishes spent glycogen).\n",
            "- Enjoy a celebratory meal.\n",
            "\n",
            "Next four days:\n",
            "- Get 10-12 hours of sleep nightly.\n",
            "- Walk min 15-20 minutes each day (minimum) to keep blood flowing through legs.\n",
            "- Use additional training aids appropriate to experience and skill level (i.e. massage roller).\n",
            "\n",
            "Notes:\n",
            "- Recovery period lasts up to 26 days (1 day for each mile).\n",
            "- Consume sufficient amount of quality calories (i.e. 16 oz vegetables per day).\n",
            "- Use time to strength train, correct injuries and promote future injury prevention.\n"
          ],
          "name": "stdout"
        }
      ]
    },
    {
      "cell_type": "code",
      "metadata": {
        "id": "w5XPGvFXBy8l",
        "colab_type": "code",
        "colab": {}
      },
      "source": [
        ""
      ],
      "execution_count": 0,
      "outputs": []
    }
  ]
}